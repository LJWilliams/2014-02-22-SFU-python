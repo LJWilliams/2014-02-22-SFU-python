{
 "metadata": {
  "name": ""
 },
 "nbformat": 3,
 "nbformat_minor": 0,
 "worksheets": [
  {
   "cells": [
    {
     "cell_type": "markdown",
     "metadata": {},
     "source": [
      "modified from bc/novice/python/05-defensive.ipynb"
     ]
    },
    {
     "cell_type": "heading",
     "level": 2,
     "metadata": {
      "cell_tags": []
     },
     "source": [
      "Defensive Programming"
     ]
    },
    {
     "cell_type": "markdown",
     "metadata": {
      "cell_tags": []
     },
     "source": [
      "#### Objectives\n",
      "\n",
      "*   Explain what an assertion is.\n",
      "*   Add assertions to programs that correctly check the program's state.\n",
      "*   Correctly add precondition and postcondition assertions to functions.\n",
      "*   Explain what test-driven development is, and use it when creating new functions.\n",
      "*   Explain why variables should be initialized using actual data values rather than arbitrary constants.\n",
      "*   Debug code containing an error systematically."
     ]
    },
    {
     "cell_type": "heading",
     "level": 3,
     "metadata": {
      "cell_tags": []
     },
     "source": [
      "Assertions"
     ]
    },
    {
     "cell_type": "markdown",
     "metadata": {},
     "source": [
      "####How asserts work"
     ]
    },
    {
     "cell_type": "markdown",
     "metadata": {},
     "source": [
      "What if we want this code to only take lists with positive values?"
     ]
    },
    {
     "cell_type": "code",
     "collapsed": false,
     "input": [
      "numbers = [1.5, 2.3, 0.7, -0.001, 4.4]\n",
      "total = 0.0\n",
      "for n in numbers:\n",
      "    total += n\n",
      "print 'total is:', total"
     ],
     "language": "python",
     "metadata": {
      "cell_tags": []
     },
     "outputs": [
      {
       "output_type": "stream",
       "stream": "stdout",
       "text": [
        "total is: 8.899\n"
       ]
      }
     ],
     "prompt_number": 7
    },
    {
     "cell_type": "markdown",
     "metadata": {},
     "source": [
      "####Sample code with asserts"
     ]
    },
    {
     "cell_type": "markdown",
     "metadata": {},
     "source": [
      "What do each of the asserts do in the code below?"
     ]
    },
    {
     "cell_type": "code",
     "collapsed": false,
     "input": [
      "def normalize_rectangle(rect):\n",
      "    '''Normalizes a rectangle so that it is at the origin and 1.0 units long on its longest axis.'''\n",
      "    assert len(rect) == 4, 'Rectangles must contain 4 coordinates'\n",
      "    x0, y0, x1, y1 = rect\n",
      "    assert x0 < x1, 'Invalid X coordinates'\n",
      "    assert y0 < y1, 'Invalid Y coordinates'\n",
      "\n",
      "    dx = x1 - x0\n",
      "    dy = y1 - y0\n",
      "    if dx > dy:\n",
      "        scaled = float(dx) / dy\n",
      "        upper_x, upper_y = 1.0, scaled\n",
      "    else:\n",
      "        scaled = float(dx) / dy\n",
      "        upper_x, upper_y = scaled, 1.0\n",
      "\n",
      "    assert 0 < upper_x <= 1.0, 'Calculated upper X coordinate invalid'\n",
      "    assert 0 < upper_y <= 1.0, 'Calculated upper Y coordinate invalid'\n",
      "\n",
      "    return (0, 0, upper_x, upper_y)"
     ],
     "language": "python",
     "metadata": {
      "cell_tags": []
     },
     "outputs": [],
     "prompt_number": 4
    },
    {
     "cell_type": "code",
     "collapsed": false,
     "input": [],
     "language": "python",
     "metadata": {},
     "outputs": []
    },
    {
     "cell_type": "markdown",
     "metadata": {
      "cell_tags": []
     },
     "source": [
      "#### Challenges\n",
      "\n",
      "1.  Suppose you are writing a function called `average` that calculates the average of the numbers in a list.\n",
      "    What pre-conditions and post-conditions would you write for it?\n",
      "    Compare your answer to your neighbor's:\n",
      "    can you think of a function that will past your tests but not hers or vice versa?\n",
      "\n",
      "2.  Explain in words what the assertions in this code check,\n",
      "    and for each one,\n",
      "    give an example of input that will make that assertion fail.\n",
      "    \n",
      "    ~~~\n",
      "    def running(values):\n",
      "        assert len(values) > 0\n",
      "        result = [values[0]]\n",
      "        for v in values[1:]:\n",
      "            assert result[-1] >= 0\n",
      "            result.append(result[-1] + v)\n",
      "        assert result[-1] >= result[0]\n",
      "        return result\n",
      "    ~~~"
     ]
    },
    {
     "cell_type": "heading",
     "level": 3,
     "metadata": {
      "cell_tags": []
     },
     "source": [
      "Test-Driven Development"
     ]
    },
    {
     "cell_type": "markdown",
     "metadata": {
      "cell_tags": []
     },
     "source": [
      "An assertion checks that something is true at a particular point in the program.\n",
      "The next step is to check the overall behavior of a piece of code,\n",
      "i.e.,\n",
      "to make sure that it produces the right output when it's given a particular input.\n",
      "For example,\n",
      "suppose we need to find where two or more time series overlap.\n",
      "The range of each time series is represented as a pair of numbers,\n",
      "which are the time the interval started and ended.\n",
      "The output is the largest range that they all include:"
     ]
    },
    {
     "cell_type": "markdown",
     "metadata": {
      "cell_tags": []
     },
     "source": [
      "<img src=\"files/img/python-overlapping-ranges.svg\" alt=\"Overlapping Ranges\" />"
     ]
    },
    {
     "cell_type": "code",
     "collapsed": false,
     "input": [
      "assert range_overlap([ (0.0, 1.0) ]) == (0.0, 1.0)\n",
      "assert range_overlap([ (0.0, 1.0), (0.0, 2.0) ]) == (0.0, 1.0)\n",
      "assert range_overlap([ (0.0, 1.0), (0.0, 2.0), (-1.0, 1.0) ]) == (0.0, 1.0)"
     ],
     "language": "python",
     "metadata": {
      "cell_tags": []
     },
     "outputs": [
      {
       "ename": "NameError",
       "evalue": "name 'range_overlap' is not defined",
       "output_type": "pyerr",
       "traceback": [
        "\u001b[1;31m---------------------------------------------------------------------------\u001b[0m\n\u001b[1;31mNameError\u001b[0m                                 Traceback (most recent call last)",
        "\u001b[1;32m<ipython-input-21-8d5443158f7e>\u001b[0m in \u001b[0;36m<module>\u001b[1;34m()\u001b[0m\n\u001b[1;32m----> 1\u001b[1;33m \u001b[1;32massert\u001b[0m \u001b[0mrange_overlap\u001b[0m\u001b[1;33m(\u001b[0m\u001b[1;33m[\u001b[0m \u001b[1;33m(\u001b[0m\u001b[1;36m0.0\u001b[0m\u001b[1;33m,\u001b[0m \u001b[1;36m1.0\u001b[0m\u001b[1;33m)\u001b[0m \u001b[1;33m]\u001b[0m\u001b[1;33m)\u001b[0m \u001b[1;33m==\u001b[0m \u001b[1;33m(\u001b[0m\u001b[1;36m0.0\u001b[0m\u001b[1;33m,\u001b[0m \u001b[1;36m1.0\u001b[0m\u001b[1;33m)\u001b[0m\u001b[1;33m\u001b[0m\u001b[0m\n\u001b[0m\u001b[0;32m      2\u001b[0m \u001b[1;32massert\u001b[0m \u001b[0mrange_overlap\u001b[0m\u001b[1;33m(\u001b[0m\u001b[1;33m[\u001b[0m \u001b[1;33m(\u001b[0m\u001b[1;36m0.0\u001b[0m\u001b[1;33m,\u001b[0m \u001b[1;36m1.0\u001b[0m\u001b[1;33m)\u001b[0m\u001b[1;33m,\u001b[0m \u001b[1;33m(\u001b[0m\u001b[1;36m0.0\u001b[0m\u001b[1;33m,\u001b[0m \u001b[1;36m2.0\u001b[0m\u001b[1;33m)\u001b[0m \u001b[1;33m]\u001b[0m\u001b[1;33m)\u001b[0m \u001b[1;33m==\u001b[0m \u001b[1;33m(\u001b[0m\u001b[1;36m0.0\u001b[0m\u001b[1;33m,\u001b[0m \u001b[1;36m1.0\u001b[0m\u001b[1;33m)\u001b[0m\u001b[1;33m\u001b[0m\u001b[0m\n\u001b[0;32m      3\u001b[0m \u001b[1;32massert\u001b[0m \u001b[0mrange_overlap\u001b[0m\u001b[1;33m(\u001b[0m\u001b[1;33m[\u001b[0m \u001b[1;33m(\u001b[0m\u001b[1;36m0.0\u001b[0m\u001b[1;33m,\u001b[0m \u001b[1;36m1.0\u001b[0m\u001b[1;33m)\u001b[0m\u001b[1;33m,\u001b[0m \u001b[1;33m(\u001b[0m\u001b[1;36m0.0\u001b[0m\u001b[1;33m,\u001b[0m \u001b[1;36m2.0\u001b[0m\u001b[1;33m)\u001b[0m\u001b[1;33m,\u001b[0m \u001b[1;33m(\u001b[0m\u001b[1;33m-\u001b[0m\u001b[1;36m1.0\u001b[0m\u001b[1;33m,\u001b[0m \u001b[1;36m1.0\u001b[0m\u001b[1;33m)\u001b[0m \u001b[1;33m]\u001b[0m\u001b[1;33m)\u001b[0m \u001b[1;33m==\u001b[0m \u001b[1;33m(\u001b[0m\u001b[1;36m0.0\u001b[0m\u001b[1;33m,\u001b[0m \u001b[1;36m1.0\u001b[0m\u001b[1;33m)\u001b[0m\u001b[1;33m\u001b[0m\u001b[0m\n",
        "\u001b[1;31mNameError\u001b[0m: name 'range_overlap' is not defined"
       ]
      }
     ],
     "prompt_number": 21
    },
    {
     "cell_type": "code",
     "collapsed": false,
     "input": [],
     "language": "python",
     "metadata": {
      "cell_tags": []
     },
     "outputs": []
    },
    {
     "cell_type": "markdown",
     "metadata": {
      "cell_tags": []
     },
     "source": [
      "Again,\n",
      "we get an error because we haven't written our function,\n",
      "but we're now ready to do so:"
     ]
    },
    {
     "cell_type": "code",
     "collapsed": false,
     "input": [
      "def range_overlap(ranges):\n",
      "    '''Return common overlap among a set of [low, high] ranges.'''\n",
      "    assert len(ranges) > 0, 'List of length 0'\n",
      "    lowest = ranges[0][0]\n",
      "    highest = ranges[0][1]\n",
      "    assert lowest <= highest, 'interval not in order'\n",
      "    for (low, high) in ranges:\n",
      "        lowest = max(lowest, low)\n",
      "        highest = min(highest, high)\n",
      "        if highest <= lowest:\n",
      "            return None\n",
      "    return (lowest, highest)"
     ],
     "language": "python",
     "metadata": {
      "cell_tags": []
     },
     "outputs": [],
     "prompt_number": 29
    },
    {
     "cell_type": "code",
     "collapsed": false,
     "input": [],
     "language": "python",
     "metadata": {
      "cell_tags": []
     },
     "outputs": [],
     "prompt_number": 31
    },
    {
     "cell_type": "markdown",
     "metadata": {
      "cell_tags": [
       "challenges"
      ]
     },
     "source": [
      "#### Challenges\n",
      "\n",
      "1.  Fix `range_overlap`. Re-run `test_range_overlap` after each change you make."
     ]
    },
    {
     "cell_type": "heading",
     "level": 3,
     "metadata": {
      "cell_tags": []
     },
     "source": [
      "Debugging"
     ]
    },
    {
     "cell_type": "markdown",
     "metadata": {
      "cell_tags": []
     },
     "source": [
      "Once testing has uncovered problems,\n",
      "the next step is to fix them.\n",
      "Many novices do this by making more-or-less random changes to their code\n",
      "until it seems to produce the right answer,\n",
      "but that's very inefficient\n",
      "(and the result is usually only correct for the one case they're testing).\n",
      "The more experienced a programmer is,\n",
      "the more systematically they debug,\n",
      "and most follow some variation on the rules explained below.\n",
      "\n",
      "#### Know What It's Supposed to Do\n",
      "\n",
      "The first step in debugging something is to\n",
      "[know what it's supposed to do](../../rules.html#know-what-its-supposed-to-do).\n",
      "\"My program doesn't work\" isn't good enough:\n",
      "in order to diagnose and fix problems,\n",
      "we need to be able to tell correct output from incorrect.\n",
      "If we can write a test case for the failing case&mdash;i.e.,\n",
      "if we can assert that with *these* inputs,\n",
      "the function should produce *that* result&mdash;\n",
      "then we're ready to start debugging.\n",
      "If we can't,\n",
      "then we need to figure out how we're going to know when we've fixed things.\n",
      "\n",
      "But writing test cases for scientific software is frequently harder than\n",
      "writing test cases for commercial applications,\n",
      "because if we knew what the output of the scientific code was supposed to be,\n",
      "we wouldn't be running the software:\n",
      "we'd be writing up our results and moving on to the next program.\n",
      "In practice,\n",
      "scientists tend to do the following:\n",
      "\n",
      "1.  *Test with simplified data.*\n",
      "    Before doing statistics on a real data set,\n",
      "    we should try calculating statistics for a single record,\n",
      "    for two identical records,\n",
      "    for two records whose values are one step apart,\n",
      "    or for some other case where we can calculate the right answer by hand.\n",
      "\n",
      "2.  *Test a simplified case.*\n",
      "    If our program is supposed to simulate\n",
      "    magnetic eddies in rapidly-rotating blobs of supercooled helium,\n",
      "    our first test should be a blob of helium that isn't rotating,\n",
      "    and isn't being subjected to any external electromagnetic fields.\n",
      "    Similarly,\n",
      "    if we're looking at the effects of climate change on speciation,\n",
      "    our first test should hold temperature, precipitation, and other factors constant.\n",
      "\n",
      "3.  *Compare to an oracle.*\n",
      "    A [test oracle](../../gloss.html#test-oracle) is something&mdash;experimental data,\n",
      "    an older program whose results are trusted,\n",
      "    or even a human expert&mdash;against which we can compare the results of our new program.\n",
      "    If we have a test oracle,\n",
      "    we should store its output for particular cases\n",
      "    so that we can compare it with our new results as often as we like\n",
      "    without re-running that program.\n",
      "\n",
      "4.  *Check conservation laws.*\n",
      "    Mass, energy, and other quantitites are conserved in physical systems,\n",
      "    so they should be in programs as well.\n",
      "    Similarly,\n",
      "    if we are analyzing patient data,\n",
      "    the number of records should either stay the same or decrease\n",
      "    as we move from one analysis to the next\n",
      "    (since we might throw away outliers or records with missing values).\n",
      "    If \"new\" patients start appearing out of nowhere as we move through our pipeline,\n",
      "    it's probably a sign that something is wrong.\n",
      "\n",
      "5.  *Visualize.*\n",
      "    Data analysts frequently use simple visualizations to check both\n",
      "    the science they're doing\n",
      "    and the correctness of their code\n",
      "    (just as we did in the [opening lesson](01-numpy.html) of this tutorial).\n",
      "    This should only be used for debugging as a last resort,\n",
      "    though,\n",
      "    since it's very hard to compare two visualizations automatically.\n",
      "\n",
      "#### Make It Fail Every Time\n",
      "\n",
      "We can only debug something when it fails,\n",
      "so the second step is always to find a test case that\n",
      "[makes it fail every time](../../rules.html#make-it-fail-every-time).\n",
      "The \"every time\" part is important because\n",
      "few things are more frustrating than debugging an intermittent problem:\n",
      "if we have to call a function a dozen times to get a single failure,\n",
      "the odds are good that we'll scroll past the failure when it actually occurs.\n",
      "\n",
      "As part of this,\n",
      "it's always important to check that our code is \"plugged in\",\n",
      "i.e.,\n",
      "that we're actually exercising the problem that we think we are.\n",
      "Every programmer has spent hours chasing a bug,\n",
      "only to realize that they were actually calling their code on the wrong data set\n",
      "or with the wrong configuration parameters,\n",
      "or are using the wrong version of the software entirely.\n",
      "Mistakes like these are particularly likely to happen when we're tired,\n",
      "frustrated,\n",
      "and up against a deadline,\n",
      "which is one of the reasons late-night (or overnight) coding sessions\n",
      "are almost never worthwhile.\n",
      "\n",
      "#### Make It Fail Fast\n",
      "\n",
      "If it takes 20 minutes for the bug to surface,\n",
      "we can only do three experiments an hour.\n",
      "That doesn't must mean we'll get less data in more time:\n",
      "we're also more likely to be distracted by other things as we wait for our program to fail,\n",
      "which means the time we *are* spending on the problem is less focused.\n",
      "It's therefore critical to [make it fail fast](../../rules.html#make-it-fail-fast).\n",
      "\n",
      "As well as making the program fail fast in time,\n",
      "we want to make it fail fast in space,\n",
      "i.e.,\n",
      "we want to localize the failure to the smallest possible region of code:\n",
      "\n",
      "1.  The smaller the gap between cause and effect,\n",
      "    the easier the connection is to find.\n",
      "    Many programmers therefore use a divide and conquer strategy to find bugs,\n",
      "    i.e.,\n",
      "    if the output of a function is wrong,\n",
      "    they check whether things are OK in the middle,\n",
      "    then concentrate on either the first or second half,\n",
      "    and so on.\n",
      "\n",
      "2.  N things can interact in N<sup>2/2</sup> different ways,\n",
      "    so every line of code that *isn't* run as part of a test\n",
      "    means more than one thing we don't need to worry about.\n",
      "\n",
      "#### Change One Thing at a Time, For a Reason\n",
      "\n",
      "Replacing random chunks of code is unlikely to do much good.\n",
      "(After all,\n",
      "if you got it wrong the first time,\n",
      "you'll probably get it wrong the second and third as well.)\n",
      "Good programmers therefore\n",
      "[change one thing at a time, for a reason](../../rules.html#change-one-thing-at-a-time)\n",
      "They are either trying to gather more information\n",
      "(\"is the bug still there if we change the order of the loops?\")\n",
      "or test a fix\n",
      "(\"can we make the bug go away by sorting our data before processing it?\").\n",
      "  \n",
      "Every time we make a change,\n",
      "however small,\n",
      "we should re-run our tests immediately,\n",
      "because the more things we change at once,\n",
      "the harder it is to know what's responsible for what\n",
      "(those N<sup>2</sup> interactions again).\n",
      "And we should re-run *all* of our tests:\n",
      "more than half of fixes made to code introduce (or re-introduce) bugs,\n",
      "so re-running all of our tests tells us whether we have [regressed](../../gloss.html#regression).\n",
      "\n",
      "#### Keep Track of What You've Done\n",
      "\n",
      "Good scientists keep track of what they've done\n",
      "so that they can reproduce their work,\n",
      "and so that they don't waste time repeating the same experiments\n",
      "or running ones whose results won't be interesting.\n",
      "Similarly,\n",
      "debugging works best when we\n",
      "[keep track of what we've done](../../rules.html#keep-track-of-what-youve-done)\n",
      "and how well it worked.\n",
      "If we find ourselves asking,\n",
      "\"Did left followed by right with an odd number of lines cause the crash?\n",
      "Or was it right followed by left?\n",
      "Or was I using an even number of lines?\"\n",
      "then it's time to step away from the computer,\n",
      "take a deep breath,\n",
      "and start working more systematically.\n",
      "  \n",
      "Records are particularly useful when the time comes to ask for help.\n",
      "People are more likely to listen to us\n",
      "when we can explain clearly what we did,\n",
      "and we're better able to give them the information they need to be useful.\n",
      "\n",
      "> #### Version Control Revisited\n",
      ">\n",
      "> Version control is often used to reset software to a known state during debugging,\n",
      "> and to explore recent changes to code that might be responsible for bugs.\n",
      "> In particular,\n",
      "> most version control systems have a `blame` command\n",
      "> that will show who last changed particular lines of code...\n",
      "\n",
      "#### Be Humble\n",
      "\n",
      "And speaking of help:\n",
      "if we can't find a bug in 10 minutes,\n",
      "we should [be humble](../../rules.html#be-humble) and ask for help.\n",
      "Just explaining the problem aloud is often useful,\n",
      "since hearing what we're thinking helps us spot inconsistencies and hidden assumptions.\n",
      "\n",
      "Asking for help also helps alleviate confirmation bias.\n",
      "If we have just spent an hour writing a complicated program,\n",
      "we want it to work,\n",
      "so we're likely to keep telling ourselves why it should,\n",
      "rather than searching for the reason it doesn't.\n",
      "People who aren't emotionally invested in the code can be more objective,\n",
      "which is why they're often able to spot the simple mistakes we have overlooked.\n",
      "\n",
      "Part of being humble is learning from our mistakes.\n",
      "Programmers tend to get the same things wrong over and over:\n",
      "either they don't understand the language and libraries they're working with,\n",
      "or their model of how things work is wrong.\n",
      "In either case,\n",
      "taking note of why the error occurred\n",
      "and checking for it next time\n",
      "quickly turns into not making the mistake at all.\n",
      "\n",
      "And that is what makes us most productive in the long run.\n",
      "As the saying goes,\n",
      "\"[A week of hard work can sometimes save you an hour of thought](../../rules.html#week-hard-work-hour-thought).\"\n",
      "If we train ourselves to avoid making some kinds of mistakes,\n",
      "to break our code into modular, testable chunks,\n",
      "and to turn every assumption (or mistake) into an assertion,\n",
      "it will actually take us *less* time to produce working programs,\n",
      "not more."
     ]
    },
    {
     "cell_type": "markdown",
     "metadata": {
      "cell_tags": [
       "keypoints"
      ]
     },
     "source": [
      "#### Key Points\n",
      "\n",
      "*   Program defensively, i.e., assume that errors are going to arise, and write code to detect them when they do.\n",
      "*   Put assertions in programs to check their state as they run, and to help readers understand how those programs are supposed to work.\n",
      "*   Use preconditions to check that the inputs to a function are safe to use.\n",
      "*   Use postconditions to check that the output from a function is safe to use.\n",
      "*   Write tests before writing code in order to help determine exactly what that code is supposed to do.\n",
      "*   Know what code is supposed to do *before* trying to debug it.\n",
      "*   Make it fail every time.\n",
      "*   Make it fail fast.\n",
      "*   Change one thing at a time, and for a reason.\n",
      "*   Keep track of what you've done.\n",
      "*   Be humble."
     ]
    },
    {
     "cell_type": "markdown",
     "metadata": {
      "cell_tags": []
     },
     "source": [
      "#### Next Steps\n",
      "\n",
      "We have now seen the basics of building and testing Python code in the IPython Notebook.\n",
      "The last thing we need to learn is how to build command-line programs\n",
      "that we can use in pipelines and shell scripts,\n",
      "so that we can integrate our tools with other people's work.\n",
      "This will be the subject of our next and final lesson."
     ]
    }
   ],
   "metadata": {}
  }
 ]
}