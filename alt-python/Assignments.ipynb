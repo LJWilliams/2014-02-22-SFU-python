{
 "metadata": {
  "name": ""
 },
 "nbformat": 3,
 "nbformat_minor": 0,
 "worksheets": [
  {
   "cells": [
    {
     "cell_type": "markdown",
     "metadata": {},
     "source": [
      "##Assignments to end the day"
     ]
    },
    {
     "cell_type": "markdown",
     "metadata": {},
     "source": [
      "1. First, create a branch, and switch to it.  \n",
      "~~~\n",
      "git branch christinas-work\n",
      "git checkout christinas-work\n",
      "~~~\n",
      "2. Pick one (or multiple!) of the assignments below.  \n",
      "3. Once you're finished, commit.  \n",
      "~~~\n",
      "git add\n",
      "git commit -m \"commit message\"\n",
      "~~~\n",
      "4. Push your branch to Lynne's directory to share your work.  \n",
      "~~~\n",
      "git push origin christinas-work\n",
      "~~~"
     ]
    },
    {
     "cell_type": "markdown",
     "metadata": {},
     "source": [
      "####Ipython Blocks\n",
      "\n",
      "In python/ipythonblocks/demos, good if you're still feeling wobbly about the basics of python and want to get a better sense of how functions and loopts and indexing work.\n",
      "\n",
      "~~~\n",
      "cd /python/dlab/ipythonblocks/\n",
      "ipython notebook\n",
      "~~~"
     ]
    },
    {
     "cell_type": "markdown",
     "metadata": {},
     "source": [
      "####Challenges\n",
      "\n",
      "Each ipython notebook in the python folder has a series of 'challenges' at the end of each section.  Pick one on the topic that interests you.  \n",
      "\n",
      "~~~\n",
      "cd /python/python/\n",
      "ipython notebook\n",
      "~~~"
     ]
    },
    {
     "cell_type": "markdown",
     "metadata": {},
     "source": [
      "####MER Analysis\n",
      "\n",
      "A more advanced assignment, using some different tools.  \n",
      "\n",
      "\n",
      "\n",
      "Bonus: is there a way to implement this using shell?  Shell + python?  "
     ]
    }
   ],
   "metadata": {}
  }
 ]
}